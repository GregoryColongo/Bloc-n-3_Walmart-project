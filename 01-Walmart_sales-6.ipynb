{
 "cells": [
  {
   "cell_type": "markdown",
   "metadata": {},
   "source": [
    "<img src=\"https://www.bestdesigns.co/uploads/inspiration_images/4350/990__1511457498_404_walmart.png\" alt=\"WALMART LOGO\" />\n",
    "\n",
    "# Walmart : predict weekly sales\n",
    "\n",
    "## Company's Description 📇\n",
    "\n",
    "Walmart Inc. is an American multinational retail corporation that operates a chain of hypermarkets, discount department stores, and grocery stores from the United States, headquartered in Bentonville, Arkansas. The company was founded by Sam Walton in 1962.\n",
    "\n",
    "## Project 🚧\n",
    "\n",
    "Walmart's marketing service has asked you to build a machine learning model able to estimate the weekly sales in their stores, with the best precision possible on the predictions made. Such a model would help them understand better how the sales are influenced by economic indicators, and might be used to plan future marketing campaigns.\n",
    "\n",
    "## Goals 🎯\n",
    "\n",
    "The project can be divided into three steps:\n",
    "\n",
    "- Part 1 : make an EDA and all the necessary preprocessings to prepare data for machine learning\n",
    "- Part 2 : train a **linear regression model** (baseline)\n",
    "- Part 3 : avoid overfitting by training a **regularized regression model**\n",
    "\n",
    "## Scope of this project 🖼️\n",
    "\n",
    "For this project, you'll work with a dataset that contains information about weekly sales achieved by different Walmart stores, and other variables such as the unemployment rate or the fuel price, that might be useful for predicting the amount of sales. The dataset has been taken from a Kaggle competition, but we made some changes compared to the original data. Please make sure that you're using **our** custom dataset (available on JULIE). 🤓"
   ]
  },
  {
   "cell_type": "markdown",
   "metadata": {},
   "source": [
    "## Deliverable 📬\n",
    "\n",
    "To complete this project, your team should: \n",
    "\n",
    "- Create some visualizations\n",
    "- Train at least one **linear regression model** on the dataset, that predicts the amount of weekly sales as a function of the other variables\n",
    "- Assess the performances of the model by using a metric that is relevant for regression problems\n",
    "- Interpret the coefficients of the model to identify what features are important for the prediction\n",
    "- Train at least one model with **regularization (Lasso or Ridge)** to reduce overfitting\n"
   ]
  },
  {
   "cell_type": "markdown",
   "metadata": {},
   "source": [
    "## Helpers 🦮\n",
    "\n",
    "To help you achieve this project, here are a few tips that should help you: \n",
    "\n",
    "### Part 1 : EDA and data preprocessing\n",
    "\n",
    "Start your project by exploring your dataset : create figures, compute some statistics etc...\n",
    "\n",
    "Then, you'll have to make some preprocessing on the dataset. You can follow the guidelines from the *preprocessing template*. There will also be some specific transformations to be planned on this dataset, for example on the *Date* column that can't be included as it is in the model. Below are some hints that might help you 🤓\n",
    "\n",
    " #### Preprocessing to be planned with pandas\n",
    "\n",
    " **Drop lines where target values are missing :**\n",
    " - Here, the target variable (Y) corresponds to the column *Weekly_Sales*. One can see above that there are some missing values in this column.\n",
    " - We never use imputation techniques on the target : it might create some bias in the predictions !\n",
    " - Then, we will just drop the lines in the dataset for which the value in *Weekly_Sales* is missing.\n",
    " \n",
    "**Create usable features from the *Date* column :**\n",
    "The *Date* column cannot be included as it is in the model. Either you can drop this column, or you will create new columns that contain the following numeric features : \n",
    "- *year*\n",
    "- *month*\n",
    "- *day*\n",
    "- *day of week*\n",
    "\n",
    "**Drop lines containing invalid values or outliers :**\n",
    "In this project, will be considered as outliers all the numeric features that don't fall within the range : $[\\bar{X} - 3\\sigma, \\bar{X} + 3\\sigma]$. This concerns the columns : *Temperature*, *Fuel_price*, *CPI* and *Unemployment*\n",
    " \n",
    "\n",
    "\n",
    "**Target variable/target (Y) that we will try to predict, to separate from the others** : *Weekly_Sales*\n",
    "\n",
    " **------------**\n",
    "\n",
    " #### Preprocessings to be planned with scikit-learn\n",
    "\n",
    " **Explanatory variables (X)**\n",
    "We need to identify which columns contain categorical variables and which columns contain numerical variables, as they will be treated differently.\n",
    "\n",
    " - Categorical variables : Store, Holiday_Flag\n",
    " - Numerical variables : Temperature, Fuel_Price, CPI, Unemployment, Year, Month, Day, DayOfWeek\n",
    "\n",
    "### Part 2 : Baseline model (linear regression)\n",
    "Once you've trained a first model, don't forget to assess its performances on the train and test sets. Are you satisfied with the results ?\n",
    "Besides, it would be interesting to analyze the values of the model's coefficients to know what features are important for the prediction. To do so, the `.coef_` attribute of scikit-learn's LinearRegression class might be useful. Please refer to the following link for more information 😉 https://scikit-learn.org/stable/modules/generated/sklearn.linear_model.LinearRegression.html\n",
    "\n",
    "### Part 3 : Fight overfitting\n",
    "In this last part, you'll have to train a **regularized linear regression model**. You'll find below some useful classes in scikit-learn's documentation :\n",
    "- https://scikit-learn.org/stable/modules/generated/sklearn.linear_model.Ridge.html#sklearn.linear_model.Ridge\n",
    "- https://scikit-learn.org/stable/modules/generated/sklearn.linear_model.Lasso.html#sklearn.linear_model.Lasso\n",
    "\n",
    "**Bonus question**\n",
    "\n",
    "In regularized regression models, there's a hyperparameter called *the regularization strength* that can be fine-tuned to get the best generalized predictions on a given dataset. This fine-tuning can be done thanks to scikit-learn's GridSearchCV class : https://scikit-learn.org/stable/modules/generated/sklearn.model_selection.GridSearchCV.html\n",
    "\n",
    "Also, you'll find here some examples of how to use GridSearchCV together with Ridge or Lasso models : https://alfurka.github.io/2018-11-18-grid-search/"
   ]
  },
  {
   "cell_type": "markdown",
   "metadata": {},
   "source": [
    "### Part 1 : EDA and data preprocessing"
   ]
  },
  {
   "cell_type": "code",
   "execution_count": 489,
   "metadata": {},
   "outputs": [
    {
     "name": "stdout",
     "output_type": "stream",
     "text": [
      "Requirement already satisfied: plotly in /opt/conda/lib/python3.8/site-packages (5.5.0)\n",
      "Requirement already satisfied: tenacity>=6.2.0 in /opt/conda/lib/python3.8/site-packages (from plotly) (8.0.1)\n",
      "Requirement already satisfied: six in /opt/conda/lib/python3.8/site-packages (from plotly) (1.15.0)\n"
     ]
    }
   ],
   "source": [
    "! pip install plotly\n",
    "import plotly.graph_objects as go\n",
    "import plotly.io as pio\n",
    "import seaborn as sns\n",
    "import plotly.express as px\n",
    "import pandas as pd\n",
    "import math as math\n",
    "import numpy as np\n",
    "import matplotlib.pyplot as plt\n",
    "from sklearn.model_selection import train_test_split\n",
    "from sklearn.pipeline import Pipeline\n",
    "from sklearn.impute import SimpleImputer\n",
    "from sklearn.preprocessing import  OneHotEncoder, StandardScaler, LabelEncoder\n",
    "from sklearn.compose import ColumnTransformer\n",
    "from sklearn.linear_model import LinearRegression"
   ]
  },
  {
   "cell_type": "code",
   "execution_count": 490,
   "metadata": {},
   "outputs": [
    {
     "data": {
      "text/html": [
       "<div>\n",
       "<style scoped>\n",
       "    .dataframe tbody tr th:only-of-type {\n",
       "        vertical-align: middle;\n",
       "    }\n",
       "\n",
       "    .dataframe tbody tr th {\n",
       "        vertical-align: top;\n",
       "    }\n",
       "\n",
       "    .dataframe thead th {\n",
       "        text-align: right;\n",
       "    }\n",
       "</style>\n",
       "<table border=\"1\" class=\"dataframe\">\n",
       "  <thead>\n",
       "    <tr style=\"text-align: right;\">\n",
       "      <th></th>\n",
       "      <th>Store</th>\n",
       "      <th>Date</th>\n",
       "      <th>Weekly_Sales</th>\n",
       "      <th>Holiday_Flag</th>\n",
       "      <th>Temperature</th>\n",
       "      <th>Fuel_Price</th>\n",
       "      <th>CPI</th>\n",
       "      <th>Unemployment</th>\n",
       "    </tr>\n",
       "  </thead>\n",
       "  <tbody>\n",
       "    <tr>\n",
       "      <th>0</th>\n",
       "      <td>6.0</td>\n",
       "      <td>18-02-2011</td>\n",
       "      <td>1572117.54</td>\n",
       "      <td>NaN</td>\n",
       "      <td>59.61</td>\n",
       "      <td>3.045</td>\n",
       "      <td>214.777523</td>\n",
       "      <td>6.858</td>\n",
       "    </tr>\n",
       "    <tr>\n",
       "      <th>1</th>\n",
       "      <td>13.0</td>\n",
       "      <td>25-03-2011</td>\n",
       "      <td>1807545.43</td>\n",
       "      <td>0.0</td>\n",
       "      <td>42.38</td>\n",
       "      <td>3.435</td>\n",
       "      <td>128.616064</td>\n",
       "      <td>7.470</td>\n",
       "    </tr>\n",
       "    <tr>\n",
       "      <th>2</th>\n",
       "      <td>17.0</td>\n",
       "      <td>27-07-2012</td>\n",
       "      <td>NaN</td>\n",
       "      <td>0.0</td>\n",
       "      <td>NaN</td>\n",
       "      <td>NaN</td>\n",
       "      <td>130.719581</td>\n",
       "      <td>5.936</td>\n",
       "    </tr>\n",
       "    <tr>\n",
       "      <th>3</th>\n",
       "      <td>11.0</td>\n",
       "      <td>NaN</td>\n",
       "      <td>1244390.03</td>\n",
       "      <td>0.0</td>\n",
       "      <td>84.57</td>\n",
       "      <td>NaN</td>\n",
       "      <td>214.556497</td>\n",
       "      <td>7.346</td>\n",
       "    </tr>\n",
       "    <tr>\n",
       "      <th>4</th>\n",
       "      <td>6.0</td>\n",
       "      <td>28-05-2010</td>\n",
       "      <td>1644470.66</td>\n",
       "      <td>0.0</td>\n",
       "      <td>78.89</td>\n",
       "      <td>2.759</td>\n",
       "      <td>212.412888</td>\n",
       "      <td>7.092</td>\n",
       "    </tr>\n",
       "  </tbody>\n",
       "</table>\n",
       "</div>"
      ],
      "text/plain": [
       "   Store        Date  Weekly_Sales  Holiday_Flag  Temperature  Fuel_Price  \\\n",
       "0    6.0  18-02-2011    1572117.54           NaN        59.61       3.045   \n",
       "1   13.0  25-03-2011    1807545.43           0.0        42.38       3.435   \n",
       "2   17.0  27-07-2012           NaN           0.0          NaN         NaN   \n",
       "3   11.0         NaN    1244390.03           0.0        84.57         NaN   \n",
       "4    6.0  28-05-2010    1644470.66           0.0        78.89       2.759   \n",
       "\n",
       "          CPI  Unemployment  \n",
       "0  214.777523         6.858  \n",
       "1  128.616064         7.470  \n",
       "2  130.719581         5.936  \n",
       "3  214.556497         7.346  \n",
       "4  212.412888         7.092  "
      ]
     },
     "execution_count": 490,
     "metadata": {},
     "output_type": "execute_result"
    }
   ],
   "source": [
    "datawal=pd.read_csv(\"Walmart_Store_sales.csv\") # reading of dataset\n",
    "datawal.head()"
   ]
  },
  {
   "cell_type": "code",
   "execution_count": 491,
   "metadata": {},
   "outputs": [
    {
     "name": "stdout",
     "output_type": "stream",
     "text": [
      "------------------------\n",
      "Basics statistics: \n"
     ]
    },
    {
     "data": {
      "text/html": [
       "<div>\n",
       "<style scoped>\n",
       "    .dataframe tbody tr th:only-of-type {\n",
       "        vertical-align: middle;\n",
       "    }\n",
       "\n",
       "    .dataframe tbody tr th {\n",
       "        vertical-align: top;\n",
       "    }\n",
       "\n",
       "    .dataframe thead th {\n",
       "        text-align: right;\n",
       "    }\n",
       "</style>\n",
       "<table border=\"1\" class=\"dataframe\">\n",
       "  <thead>\n",
       "    <tr style=\"text-align: right;\">\n",
       "      <th></th>\n",
       "      <th>Store</th>\n",
       "      <th>Date</th>\n",
       "      <th>Weekly_Sales</th>\n",
       "      <th>Holiday_Flag</th>\n",
       "      <th>Temperature</th>\n",
       "      <th>Fuel_Price</th>\n",
       "      <th>CPI</th>\n",
       "      <th>Unemployment</th>\n",
       "    </tr>\n",
       "  </thead>\n",
       "  <tbody>\n",
       "    <tr>\n",
       "      <th>count</th>\n",
       "      <td>150.000000</td>\n",
       "      <td>132</td>\n",
       "      <td>1.360000e+02</td>\n",
       "      <td>138.000000</td>\n",
       "      <td>132.000000</td>\n",
       "      <td>136.000000</td>\n",
       "      <td>138.000000</td>\n",
       "      <td>135.000000</td>\n",
       "    </tr>\n",
       "    <tr>\n",
       "      <th>unique</th>\n",
       "      <td>NaN</td>\n",
       "      <td>85</td>\n",
       "      <td>NaN</td>\n",
       "      <td>NaN</td>\n",
       "      <td>NaN</td>\n",
       "      <td>NaN</td>\n",
       "      <td>NaN</td>\n",
       "      <td>NaN</td>\n",
       "    </tr>\n",
       "    <tr>\n",
       "      <th>top</th>\n",
       "      <td>NaN</td>\n",
       "      <td>19-10-2012</td>\n",
       "      <td>NaN</td>\n",
       "      <td>NaN</td>\n",
       "      <td>NaN</td>\n",
       "      <td>NaN</td>\n",
       "      <td>NaN</td>\n",
       "      <td>NaN</td>\n",
       "    </tr>\n",
       "    <tr>\n",
       "      <th>freq</th>\n",
       "      <td>NaN</td>\n",
       "      <td>4</td>\n",
       "      <td>NaN</td>\n",
       "      <td>NaN</td>\n",
       "      <td>NaN</td>\n",
       "      <td>NaN</td>\n",
       "      <td>NaN</td>\n",
       "      <td>NaN</td>\n",
       "    </tr>\n",
       "    <tr>\n",
       "      <th>mean</th>\n",
       "      <td>9.866667</td>\n",
       "      <td>NaN</td>\n",
       "      <td>1.249536e+06</td>\n",
       "      <td>0.079710</td>\n",
       "      <td>61.398106</td>\n",
       "      <td>3.320853</td>\n",
       "      <td>179.898509</td>\n",
       "      <td>7.598430</td>\n",
       "    </tr>\n",
       "    <tr>\n",
       "      <th>std</th>\n",
       "      <td>6.231191</td>\n",
       "      <td>NaN</td>\n",
       "      <td>6.474630e+05</td>\n",
       "      <td>0.271831</td>\n",
       "      <td>18.378901</td>\n",
       "      <td>0.478149</td>\n",
       "      <td>40.274956</td>\n",
       "      <td>1.577173</td>\n",
       "    </tr>\n",
       "    <tr>\n",
       "      <th>min</th>\n",
       "      <td>1.000000</td>\n",
       "      <td>NaN</td>\n",
       "      <td>2.689290e+05</td>\n",
       "      <td>0.000000</td>\n",
       "      <td>18.790000</td>\n",
       "      <td>2.514000</td>\n",
       "      <td>126.111903</td>\n",
       "      <td>5.143000</td>\n",
       "    </tr>\n",
       "    <tr>\n",
       "      <th>25%</th>\n",
       "      <td>4.000000</td>\n",
       "      <td>NaN</td>\n",
       "      <td>6.050757e+05</td>\n",
       "      <td>0.000000</td>\n",
       "      <td>45.587500</td>\n",
       "      <td>2.852250</td>\n",
       "      <td>131.970831</td>\n",
       "      <td>6.597500</td>\n",
       "    </tr>\n",
       "    <tr>\n",
       "      <th>50%</th>\n",
       "      <td>9.000000</td>\n",
       "      <td>NaN</td>\n",
       "      <td>1.261424e+06</td>\n",
       "      <td>0.000000</td>\n",
       "      <td>62.985000</td>\n",
       "      <td>3.451000</td>\n",
       "      <td>197.908893</td>\n",
       "      <td>7.470000</td>\n",
       "    </tr>\n",
       "    <tr>\n",
       "      <th>75%</th>\n",
       "      <td>15.750000</td>\n",
       "      <td>NaN</td>\n",
       "      <td>1.806386e+06</td>\n",
       "      <td>0.000000</td>\n",
       "      <td>76.345000</td>\n",
       "      <td>3.706250</td>\n",
       "      <td>214.934616</td>\n",
       "      <td>8.150000</td>\n",
       "    </tr>\n",
       "    <tr>\n",
       "      <th>max</th>\n",
       "      <td>20.000000</td>\n",
       "      <td>NaN</td>\n",
       "      <td>2.771397e+06</td>\n",
       "      <td>1.000000</td>\n",
       "      <td>91.650000</td>\n",
       "      <td>4.193000</td>\n",
       "      <td>226.968844</td>\n",
       "      <td>14.313000</td>\n",
       "    </tr>\n",
       "  </tbody>\n",
       "</table>\n",
       "</div>"
      ],
      "text/plain": [
       "             Store        Date  Weekly_Sales  Holiday_Flag  Temperature  \\\n",
       "count   150.000000         132  1.360000e+02    138.000000   132.000000   \n",
       "unique         NaN          85           NaN           NaN          NaN   \n",
       "top            NaN  19-10-2012           NaN           NaN          NaN   \n",
       "freq           NaN           4           NaN           NaN          NaN   \n",
       "mean      9.866667         NaN  1.249536e+06      0.079710    61.398106   \n",
       "std       6.231191         NaN  6.474630e+05      0.271831    18.378901   \n",
       "min       1.000000         NaN  2.689290e+05      0.000000    18.790000   \n",
       "25%       4.000000         NaN  6.050757e+05      0.000000    45.587500   \n",
       "50%       9.000000         NaN  1.261424e+06      0.000000    62.985000   \n",
       "75%      15.750000         NaN  1.806386e+06      0.000000    76.345000   \n",
       "max      20.000000         NaN  2.771397e+06      1.000000    91.650000   \n",
       "\n",
       "        Fuel_Price         CPI  Unemployment  \n",
       "count   136.000000  138.000000    135.000000  \n",
       "unique         NaN         NaN           NaN  \n",
       "top            NaN         NaN           NaN  \n",
       "freq           NaN         NaN           NaN  \n",
       "mean      3.320853  179.898509      7.598430  \n",
       "std       0.478149   40.274956      1.577173  \n",
       "min       2.514000  126.111903      5.143000  \n",
       "25%       2.852250  131.970831      6.597500  \n",
       "50%       3.451000  197.908893      7.470000  \n",
       "75%       3.706250  214.934616      8.150000  \n",
       "max       4.193000  226.968844     14.313000  "
      ]
     },
     "metadata": {},
     "output_type": "display_data"
    },
    {
     "name": "stdout",
     "output_type": "stream",
     "text": [
      "\n",
      "Percentage of missing values: \n"
     ]
    },
    {
     "data": {
      "text/plain": [
       "Store            0.000000\n",
       "Date            12.000000\n",
       "Weekly_Sales     9.333333\n",
       "Holiday_Flag     8.000000\n",
       "Temperature     12.000000\n",
       "Fuel_Price       9.333333\n",
       "CPI              8.000000\n",
       "Unemployment    10.000000\n",
       "dtype: float64"
      ]
     },
     "metadata": {},
     "output_type": "display_data"
    },
    {
     "name": "stdout",
     "output_type": "stream",
     "text": [
      "\n",
      "details of features : \n",
      "<class 'pandas.core.frame.DataFrame'>\n",
      "RangeIndex: 150 entries, 0 to 149\n",
      "Data columns (total 8 columns):\n",
      " #   Column        Non-Null Count  Dtype  \n",
      "---  ------        --------------  -----  \n",
      " 0   Store         150 non-null    float64\n",
      " 1   Date          132 non-null    object \n",
      " 2   Weekly_Sales  136 non-null    float64\n",
      " 3   Holiday_Flag  138 non-null    float64\n",
      " 4   Temperature   132 non-null    float64\n",
      " 5   Fuel_Price    136 non-null    float64\n",
      " 6   CPI           138 non-null    float64\n",
      " 7   Unemployment  135 non-null    float64\n",
      "dtypes: float64(7), object(1)\n",
      "memory usage: 9.5+ KB\n",
      "------------------------\n"
     ]
    }
   ],
   "source": [
    "# Basic statistics\n",
    "\n",
    "print(\"------------------------\")\n",
    "print(\"Basics statistics: \")\n",
    "data_desc = datawal.describe(include='all')\n",
    "display(data_desc)\n",
    "print()\n",
    "\n",
    "print(\"Percentage of missing values: \")\n",
    "display(100*datawal.isnull().sum()/datawal.shape[0])\n",
    "print()\n",
    "\n",
    "print(\"details of features : \")\n",
    "datawal.info()\n",
    "print(\"------------------------\")\n"
   ]
  },
  {
   "cell_type": "markdown",
   "metadata": {},
   "source": [
    "#### Definition CPI (\"Consumer price index\") : This index measures the change in prices for the essential goods and services \n",
    "#### that the least wealthy in our society must consume, such as rent, food and energy."
   ]
  },
  {
   "cell_type": "code",
   "execution_count": 492,
   "metadata": {},
   "outputs": [
    {
     "data": {
      "text/html": [
       "<div>\n",
       "<style scoped>\n",
       "    .dataframe tbody tr th:only-of-type {\n",
       "        vertical-align: middle;\n",
       "    }\n",
       "\n",
       "    .dataframe tbody tr th {\n",
       "        vertical-align: top;\n",
       "    }\n",
       "\n",
       "    .dataframe thead th {\n",
       "        text-align: right;\n",
       "    }\n",
       "</style>\n",
       "<table border=\"1\" class=\"dataframe\">\n",
       "  <thead>\n",
       "    <tr style=\"text-align: right;\">\n",
       "      <th></th>\n",
       "      <th>Store</th>\n",
       "      <th>Date</th>\n",
       "      <th>Weekly_Sales</th>\n",
       "      <th>Holiday_Flag</th>\n",
       "      <th>Temperature</th>\n",
       "      <th>Fuel_Price</th>\n",
       "      <th>CPI</th>\n",
       "      <th>Unemployment</th>\n",
       "    </tr>\n",
       "  </thead>\n",
       "  <tbody>\n",
       "    <tr>\n",
       "      <th>0</th>\n",
       "      <td>6.0</td>\n",
       "      <td>18-02-2011</td>\n",
       "      <td>1572117.54</td>\n",
       "      <td>NaN</td>\n",
       "      <td>59.61</td>\n",
       "      <td>3.045</td>\n",
       "      <td>214.777523</td>\n",
       "      <td>6.858</td>\n",
       "    </tr>\n",
       "    <tr>\n",
       "      <th>1</th>\n",
       "      <td>13.0</td>\n",
       "      <td>25-03-2011</td>\n",
       "      <td>1807545.43</td>\n",
       "      <td>0.0</td>\n",
       "      <td>42.38</td>\n",
       "      <td>3.435</td>\n",
       "      <td>128.616064</td>\n",
       "      <td>7.470</td>\n",
       "    </tr>\n",
       "    <tr>\n",
       "      <th>3</th>\n",
       "      <td>11.0</td>\n",
       "      <td>NaN</td>\n",
       "      <td>1244390.03</td>\n",
       "      <td>0.0</td>\n",
       "      <td>84.57</td>\n",
       "      <td>NaN</td>\n",
       "      <td>214.556497</td>\n",
       "      <td>7.346</td>\n",
       "    </tr>\n",
       "    <tr>\n",
       "      <th>4</th>\n",
       "      <td>6.0</td>\n",
       "      <td>28-05-2010</td>\n",
       "      <td>1644470.66</td>\n",
       "      <td>0.0</td>\n",
       "      <td>78.89</td>\n",
       "      <td>2.759</td>\n",
       "      <td>212.412888</td>\n",
       "      <td>7.092</td>\n",
       "    </tr>\n",
       "    <tr>\n",
       "      <th>5</th>\n",
       "      <td>4.0</td>\n",
       "      <td>28-05-2010</td>\n",
       "      <td>1857533.70</td>\n",
       "      <td>0.0</td>\n",
       "      <td>NaN</td>\n",
       "      <td>2.756</td>\n",
       "      <td>126.160226</td>\n",
       "      <td>7.896</td>\n",
       "    </tr>\n",
       "    <tr>\n",
       "      <th>...</th>\n",
       "      <td>...</td>\n",
       "      <td>...</td>\n",
       "      <td>...</td>\n",
       "      <td>...</td>\n",
       "      <td>...</td>\n",
       "      <td>...</td>\n",
       "      <td>...</td>\n",
       "      <td>...</td>\n",
       "    </tr>\n",
       "    <tr>\n",
       "      <th>145</th>\n",
       "      <td>14.0</td>\n",
       "      <td>18-06-2010</td>\n",
       "      <td>2248645.59</td>\n",
       "      <td>0.0</td>\n",
       "      <td>72.62</td>\n",
       "      <td>2.780</td>\n",
       "      <td>182.442420</td>\n",
       "      <td>8.899</td>\n",
       "    </tr>\n",
       "    <tr>\n",
       "      <th>146</th>\n",
       "      <td>7.0</td>\n",
       "      <td>NaN</td>\n",
       "      <td>716388.81</td>\n",
       "      <td>NaN</td>\n",
       "      <td>20.74</td>\n",
       "      <td>2.778</td>\n",
       "      <td>NaN</td>\n",
       "      <td>NaN</td>\n",
       "    </tr>\n",
       "    <tr>\n",
       "      <th>147</th>\n",
       "      <td>17.0</td>\n",
       "      <td>11-06-2010</td>\n",
       "      <td>845252.21</td>\n",
       "      <td>0.0</td>\n",
       "      <td>57.14</td>\n",
       "      <td>2.841</td>\n",
       "      <td>126.111903</td>\n",
       "      <td>NaN</td>\n",
       "    </tr>\n",
       "    <tr>\n",
       "      <th>148</th>\n",
       "      <td>8.0</td>\n",
       "      <td>12-08-2011</td>\n",
       "      <td>856796.10</td>\n",
       "      <td>0.0</td>\n",
       "      <td>86.05</td>\n",
       "      <td>3.638</td>\n",
       "      <td>219.007525</td>\n",
       "      <td>NaN</td>\n",
       "    </tr>\n",
       "    <tr>\n",
       "      <th>149</th>\n",
       "      <td>19.0</td>\n",
       "      <td>20-04-2012</td>\n",
       "      <td>1255087.26</td>\n",
       "      <td>0.0</td>\n",
       "      <td>55.20</td>\n",
       "      <td>4.170</td>\n",
       "      <td>137.923067</td>\n",
       "      <td>8.150</td>\n",
       "    </tr>\n",
       "  </tbody>\n",
       "</table>\n",
       "<p>136 rows × 8 columns</p>\n",
       "</div>"
      ],
      "text/plain": [
       "     Store        Date  Weekly_Sales  Holiday_Flag  Temperature  Fuel_Price  \\\n",
       "0      6.0  18-02-2011    1572117.54           NaN        59.61       3.045   \n",
       "1     13.0  25-03-2011    1807545.43           0.0        42.38       3.435   \n",
       "3     11.0         NaN    1244390.03           0.0        84.57         NaN   \n",
       "4      6.0  28-05-2010    1644470.66           0.0        78.89       2.759   \n",
       "5      4.0  28-05-2010    1857533.70           0.0          NaN       2.756   \n",
       "..     ...         ...           ...           ...          ...         ...   \n",
       "145   14.0  18-06-2010    2248645.59           0.0        72.62       2.780   \n",
       "146    7.0         NaN     716388.81           NaN        20.74       2.778   \n",
       "147   17.0  11-06-2010     845252.21           0.0        57.14       2.841   \n",
       "148    8.0  12-08-2011     856796.10           0.0        86.05       3.638   \n",
       "149   19.0  20-04-2012    1255087.26           0.0        55.20       4.170   \n",
       "\n",
       "            CPI  Unemployment  \n",
       "0    214.777523         6.858  \n",
       "1    128.616064         7.470  \n",
       "3    214.556497         7.346  \n",
       "4    212.412888         7.092  \n",
       "5    126.160226         7.896  \n",
       "..          ...           ...  \n",
       "145  182.442420         8.899  \n",
       "146         NaN           NaN  \n",
       "147  126.111903           NaN  \n",
       "148  219.007525           NaN  \n",
       "149  137.923067         8.150  \n",
       "\n",
       "[136 rows x 8 columns]"
      ]
     },
     "execution_count": 492,
     "metadata": {},
     "output_type": "execute_result"
    }
   ],
   "source": [
    "datawal = datawal[datawal['Weekly_Sales'].notna()] # Drop rows without \"y\" column (Weekly_sales)\n",
    "datawal\n"
   ]
  },
  {
   "cell_type": "code",
   "execution_count": 493,
   "metadata": {},
   "outputs": [
    {
     "data": {
      "text/html": [
       "<div>\n",
       "<style scoped>\n",
       "    .dataframe tbody tr th:only-of-type {\n",
       "        vertical-align: middle;\n",
       "    }\n",
       "\n",
       "    .dataframe tbody tr th {\n",
       "        vertical-align: top;\n",
       "    }\n",
       "\n",
       "    .dataframe thead th {\n",
       "        text-align: right;\n",
       "    }\n",
       "</style>\n",
       "<table border=\"1\" class=\"dataframe\">\n",
       "  <thead>\n",
       "    <tr style=\"text-align: right;\">\n",
       "      <th></th>\n",
       "      <th>Store</th>\n",
       "      <th>Date</th>\n",
       "      <th>Weekly_Sales</th>\n",
       "      <th>Holiday_Flag</th>\n",
       "      <th>Temperature</th>\n",
       "      <th>Fuel_Price</th>\n",
       "      <th>CPI</th>\n",
       "      <th>Unemployment</th>\n",
       "    </tr>\n",
       "  </thead>\n",
       "  <tbody>\n",
       "    <tr>\n",
       "      <th>1</th>\n",
       "      <td>13.0</td>\n",
       "      <td>25-03-2011</td>\n",
       "      <td>1807545.43</td>\n",
       "      <td>0.0</td>\n",
       "      <td>42.38</td>\n",
       "      <td>3.435</td>\n",
       "      <td>128.616064</td>\n",
       "      <td>7.470</td>\n",
       "    </tr>\n",
       "    <tr>\n",
       "      <th>4</th>\n",
       "      <td>6.0</td>\n",
       "      <td>28-05-2010</td>\n",
       "      <td>1644470.66</td>\n",
       "      <td>0.0</td>\n",
       "      <td>78.89</td>\n",
       "      <td>2.759</td>\n",
       "      <td>212.412888</td>\n",
       "      <td>7.092</td>\n",
       "    </tr>\n",
       "    <tr>\n",
       "      <th>5</th>\n",
       "      <td>4.0</td>\n",
       "      <td>28-05-2010</td>\n",
       "      <td>1857533.70</td>\n",
       "      <td>0.0</td>\n",
       "      <td>NaN</td>\n",
       "      <td>2.756</td>\n",
       "      <td>126.160226</td>\n",
       "      <td>7.896</td>\n",
       "    </tr>\n",
       "    <tr>\n",
       "      <th>6</th>\n",
       "      <td>15.0</td>\n",
       "      <td>03-06-2011</td>\n",
       "      <td>695396.19</td>\n",
       "      <td>0.0</td>\n",
       "      <td>69.80</td>\n",
       "      <td>4.069</td>\n",
       "      <td>134.855161</td>\n",
       "      <td>7.658</td>\n",
       "    </tr>\n",
       "    <tr>\n",
       "      <th>7</th>\n",
       "      <td>20.0</td>\n",
       "      <td>03-02-2012</td>\n",
       "      <td>2203523.20</td>\n",
       "      <td>0.0</td>\n",
       "      <td>39.93</td>\n",
       "      <td>3.617</td>\n",
       "      <td>213.023623</td>\n",
       "      <td>6.961</td>\n",
       "    </tr>\n",
       "    <tr>\n",
       "      <th>...</th>\n",
       "      <td>...</td>\n",
       "      <td>...</td>\n",
       "      <td>...</td>\n",
       "      <td>...</td>\n",
       "      <td>...</td>\n",
       "      <td>...</td>\n",
       "      <td>...</td>\n",
       "      <td>...</td>\n",
       "    </tr>\n",
       "    <tr>\n",
       "      <th>144</th>\n",
       "      <td>3.0</td>\n",
       "      <td>19-10-2012</td>\n",
       "      <td>424513.08</td>\n",
       "      <td>0.0</td>\n",
       "      <td>73.44</td>\n",
       "      <td>3.594</td>\n",
       "      <td>226.968844</td>\n",
       "      <td>6.034</td>\n",
       "    </tr>\n",
       "    <tr>\n",
       "      <th>145</th>\n",
       "      <td>14.0</td>\n",
       "      <td>18-06-2010</td>\n",
       "      <td>2248645.59</td>\n",
       "      <td>0.0</td>\n",
       "      <td>72.62</td>\n",
       "      <td>2.780</td>\n",
       "      <td>182.442420</td>\n",
       "      <td>8.899</td>\n",
       "    </tr>\n",
       "    <tr>\n",
       "      <th>147</th>\n",
       "      <td>17.0</td>\n",
       "      <td>11-06-2010</td>\n",
       "      <td>845252.21</td>\n",
       "      <td>0.0</td>\n",
       "      <td>57.14</td>\n",
       "      <td>2.841</td>\n",
       "      <td>126.111903</td>\n",
       "      <td>NaN</td>\n",
       "    </tr>\n",
       "    <tr>\n",
       "      <th>148</th>\n",
       "      <td>8.0</td>\n",
       "      <td>12-08-2011</td>\n",
       "      <td>856796.10</td>\n",
       "      <td>0.0</td>\n",
       "      <td>86.05</td>\n",
       "      <td>3.638</td>\n",
       "      <td>219.007525</td>\n",
       "      <td>NaN</td>\n",
       "    </tr>\n",
       "    <tr>\n",
       "      <th>149</th>\n",
       "      <td>19.0</td>\n",
       "      <td>20-04-2012</td>\n",
       "      <td>1255087.26</td>\n",
       "      <td>0.0</td>\n",
       "      <td>55.20</td>\n",
       "      <td>4.170</td>\n",
       "      <td>137.923067</td>\n",
       "      <td>8.150</td>\n",
       "    </tr>\n",
       "  </tbody>\n",
       "</table>\n",
       "<p>109 rows × 8 columns</p>\n",
       "</div>"
      ],
      "text/plain": [
       "     Store        Date  Weekly_Sales  Holiday_Flag  Temperature  Fuel_Price  \\\n",
       "1     13.0  25-03-2011    1807545.43           0.0        42.38       3.435   \n",
       "4      6.0  28-05-2010    1644470.66           0.0        78.89       2.759   \n",
       "5      4.0  28-05-2010    1857533.70           0.0          NaN       2.756   \n",
       "6     15.0  03-06-2011     695396.19           0.0        69.80       4.069   \n",
       "7     20.0  03-02-2012    2203523.20           0.0        39.93       3.617   \n",
       "..     ...         ...           ...           ...          ...         ...   \n",
       "144    3.0  19-10-2012     424513.08           0.0        73.44       3.594   \n",
       "145   14.0  18-06-2010    2248645.59           0.0        72.62       2.780   \n",
       "147   17.0  11-06-2010     845252.21           0.0        57.14       2.841   \n",
       "148    8.0  12-08-2011     856796.10           0.0        86.05       3.638   \n",
       "149   19.0  20-04-2012    1255087.26           0.0        55.20       4.170   \n",
       "\n",
       "            CPI  Unemployment  \n",
       "1    128.616064         7.470  \n",
       "4    212.412888         7.092  \n",
       "5    126.160226         7.896  \n",
       "6    134.855161         7.658  \n",
       "7    213.023623         6.961  \n",
       "..          ...           ...  \n",
       "144  226.968844         6.034  \n",
       "145  182.442420         8.899  \n",
       "147  126.111903           NaN  \n",
       "148  219.007525           NaN  \n",
       "149  137.923067         8.150  \n",
       "\n",
       "[109 rows x 8 columns]"
      ]
     },
     "execution_count": 493,
     "metadata": {},
     "output_type": "execute_result"
    }
   ],
   "source": [
    "datawal = datawal[datawal['Date'].notna() & datawal['Holiday_Flag'].notna()]  # Drop rows with Nan in Date column ad HolidayFlag \n",
    "datawal\n",
    "\n"
   ]
  },
  {
   "cell_type": "code",
   "execution_count": 494,
   "metadata": {},
   "outputs": [
    {
     "name": "stdout",
     "output_type": "stream",
     "text": [
      "<class 'pandas.core.frame.DataFrame'>\n",
      "Int64Index: 109 entries, 1 to 149\n",
      "Data columns (total 8 columns):\n",
      " #   Column        Non-Null Count  Dtype         \n",
      "---  ------        --------------  -----         \n",
      " 0   Store         109 non-null    float64       \n",
      " 1   Date          109 non-null    datetime64[ns]\n",
      " 2   Weekly_Sales  109 non-null    float64       \n",
      " 3   Holiday_Flag  109 non-null    float64       \n",
      " 4   Temperature   98 non-null     float64       \n",
      " 5   Fuel_Price    98 non-null     float64       \n",
      " 6   CPI           100 non-null    float64       \n",
      " 7   Unemployment  98 non-null     float64       \n",
      "dtypes: datetime64[ns](1), float64(7)\n",
      "memory usage: 7.7 KB\n"
     ]
    },
    {
     "name": "stderr",
     "output_type": "stream",
     "text": [
      "<ipython-input-494-9c470b8f33fb>:1: SettingWithCopyWarning: \n",
      "A value is trying to be set on a copy of a slice from a DataFrame.\n",
      "Try using .loc[row_indexer,col_indexer] = value instead\n",
      "\n",
      "See the caveats in the documentation: https://pandas.pydata.org/pandas-docs/stable/user_guide/indexing.html#returning-a-view-versus-a-copy\n",
      "  datawal['Date'] = pd.to_datetime(datawal['Date'])  #Convert date in datetime object\n"
     ]
    }
   ],
   "source": [
    "datawal['Date'] = pd.to_datetime(datawal['Date'])  #Convert date in datetime object\n",
    "datawal.info()\n"
   ]
  },
  {
   "cell_type": "code",
   "execution_count": 495,
   "metadata": {},
   "outputs": [
    {
     "name": "stderr",
     "output_type": "stream",
     "text": [
      "<ipython-input-495-6fe9d25220e6>:1: SettingWithCopyWarning: \n",
      "A value is trying to be set on a copy of a slice from a DataFrame.\n",
      "Try using .loc[row_indexer,col_indexer] = value instead\n",
      "\n",
      "See the caveats in the documentation: https://pandas.pydata.org/pandas-docs/stable/user_guide/indexing.html#returning-a-view-versus-a-copy\n",
      "  datawal['year'] = datawal['Date'].dt.year    #create 4 columns for splitting date\n",
      "<ipython-input-495-6fe9d25220e6>:2: SettingWithCopyWarning: \n",
      "A value is trying to be set on a copy of a slice from a DataFrame.\n",
      "Try using .loc[row_indexer,col_indexer] = value instead\n",
      "\n",
      "See the caveats in the documentation: https://pandas.pydata.org/pandas-docs/stable/user_guide/indexing.html#returning-a-view-versus-a-copy\n",
      "  datawal['month'] = datawal['Date'].dt.month\n",
      "<ipython-input-495-6fe9d25220e6>:3: SettingWithCopyWarning: \n",
      "A value is trying to be set on a copy of a slice from a DataFrame.\n",
      "Try using .loc[row_indexer,col_indexer] = value instead\n",
      "\n",
      "See the caveats in the documentation: https://pandas.pydata.org/pandas-docs/stable/user_guide/indexing.html#returning-a-view-versus-a-copy\n",
      "  datawal['day'] = datawal['Date'].dt.day\n",
      "<ipython-input-495-6fe9d25220e6>:4: SettingWithCopyWarning: \n",
      "A value is trying to be set on a copy of a slice from a DataFrame.\n",
      "Try using .loc[row_indexer,col_indexer] = value instead\n",
      "\n",
      "See the caveats in the documentation: https://pandas.pydata.org/pandas-docs/stable/user_guide/indexing.html#returning-a-view-versus-a-copy\n",
      "  datawal['weekday'] = datawal['Date'].dt.weekday\n"
     ]
    },
    {
     "data": {
      "text/html": [
       "<div>\n",
       "<style scoped>\n",
       "    .dataframe tbody tr th:only-of-type {\n",
       "        vertical-align: middle;\n",
       "    }\n",
       "\n",
       "    .dataframe tbody tr th {\n",
       "        vertical-align: top;\n",
       "    }\n",
       "\n",
       "    .dataframe thead th {\n",
       "        text-align: right;\n",
       "    }\n",
       "</style>\n",
       "<table border=\"1\" class=\"dataframe\">\n",
       "  <thead>\n",
       "    <tr style=\"text-align: right;\">\n",
       "      <th></th>\n",
       "      <th>Store</th>\n",
       "      <th>Date</th>\n",
       "      <th>Weekly_Sales</th>\n",
       "      <th>Holiday_Flag</th>\n",
       "      <th>Temperature</th>\n",
       "      <th>Fuel_Price</th>\n",
       "      <th>CPI</th>\n",
       "      <th>Unemployment</th>\n",
       "      <th>year</th>\n",
       "      <th>month</th>\n",
       "      <th>day</th>\n",
       "      <th>weekday</th>\n",
       "    </tr>\n",
       "  </thead>\n",
       "  <tbody>\n",
       "    <tr>\n",
       "      <th>1</th>\n",
       "      <td>13.0</td>\n",
       "      <td>2011-03-25</td>\n",
       "      <td>1807545.43</td>\n",
       "      <td>0.0</td>\n",
       "      <td>42.38</td>\n",
       "      <td>3.435</td>\n",
       "      <td>128.616064</td>\n",
       "      <td>7.470</td>\n",
       "      <td>2011</td>\n",
       "      <td>3</td>\n",
       "      <td>25</td>\n",
       "      <td>4</td>\n",
       "    </tr>\n",
       "    <tr>\n",
       "      <th>4</th>\n",
       "      <td>6.0</td>\n",
       "      <td>2010-05-28</td>\n",
       "      <td>1644470.66</td>\n",
       "      <td>0.0</td>\n",
       "      <td>78.89</td>\n",
       "      <td>2.759</td>\n",
       "      <td>212.412888</td>\n",
       "      <td>7.092</td>\n",
       "      <td>2010</td>\n",
       "      <td>5</td>\n",
       "      <td>28</td>\n",
       "      <td>4</td>\n",
       "    </tr>\n",
       "    <tr>\n",
       "      <th>5</th>\n",
       "      <td>4.0</td>\n",
       "      <td>2010-05-28</td>\n",
       "      <td>1857533.70</td>\n",
       "      <td>0.0</td>\n",
       "      <td>NaN</td>\n",
       "      <td>2.756</td>\n",
       "      <td>126.160226</td>\n",
       "      <td>7.896</td>\n",
       "      <td>2010</td>\n",
       "      <td>5</td>\n",
       "      <td>28</td>\n",
       "      <td>4</td>\n",
       "    </tr>\n",
       "    <tr>\n",
       "      <th>6</th>\n",
       "      <td>15.0</td>\n",
       "      <td>2011-03-06</td>\n",
       "      <td>695396.19</td>\n",
       "      <td>0.0</td>\n",
       "      <td>69.80</td>\n",
       "      <td>4.069</td>\n",
       "      <td>134.855161</td>\n",
       "      <td>7.658</td>\n",
       "      <td>2011</td>\n",
       "      <td>3</td>\n",
       "      <td>6</td>\n",
       "      <td>6</td>\n",
       "    </tr>\n",
       "    <tr>\n",
       "      <th>7</th>\n",
       "      <td>20.0</td>\n",
       "      <td>2012-03-02</td>\n",
       "      <td>2203523.20</td>\n",
       "      <td>0.0</td>\n",
       "      <td>39.93</td>\n",
       "      <td>3.617</td>\n",
       "      <td>213.023623</td>\n",
       "      <td>6.961</td>\n",
       "      <td>2012</td>\n",
       "      <td>3</td>\n",
       "      <td>2</td>\n",
       "      <td>4</td>\n",
       "    </tr>\n",
       "    <tr>\n",
       "      <th>...</th>\n",
       "      <td>...</td>\n",
       "      <td>...</td>\n",
       "      <td>...</td>\n",
       "      <td>...</td>\n",
       "      <td>...</td>\n",
       "      <td>...</td>\n",
       "      <td>...</td>\n",
       "      <td>...</td>\n",
       "      <td>...</td>\n",
       "      <td>...</td>\n",
       "      <td>...</td>\n",
       "      <td>...</td>\n",
       "    </tr>\n",
       "    <tr>\n",
       "      <th>144</th>\n",
       "      <td>3.0</td>\n",
       "      <td>2012-10-19</td>\n",
       "      <td>424513.08</td>\n",
       "      <td>0.0</td>\n",
       "      <td>73.44</td>\n",
       "      <td>3.594</td>\n",
       "      <td>226.968844</td>\n",
       "      <td>6.034</td>\n",
       "      <td>2012</td>\n",
       "      <td>10</td>\n",
       "      <td>19</td>\n",
       "      <td>4</td>\n",
       "    </tr>\n",
       "    <tr>\n",
       "      <th>145</th>\n",
       "      <td>14.0</td>\n",
       "      <td>2010-06-18</td>\n",
       "      <td>2248645.59</td>\n",
       "      <td>0.0</td>\n",
       "      <td>72.62</td>\n",
       "      <td>2.780</td>\n",
       "      <td>182.442420</td>\n",
       "      <td>8.899</td>\n",
       "      <td>2010</td>\n",
       "      <td>6</td>\n",
       "      <td>18</td>\n",
       "      <td>4</td>\n",
       "    </tr>\n",
       "    <tr>\n",
       "      <th>147</th>\n",
       "      <td>17.0</td>\n",
       "      <td>2010-11-06</td>\n",
       "      <td>845252.21</td>\n",
       "      <td>0.0</td>\n",
       "      <td>57.14</td>\n",
       "      <td>2.841</td>\n",
       "      <td>126.111903</td>\n",
       "      <td>NaN</td>\n",
       "      <td>2010</td>\n",
       "      <td>11</td>\n",
       "      <td>6</td>\n",
       "      <td>5</td>\n",
       "    </tr>\n",
       "    <tr>\n",
       "      <th>148</th>\n",
       "      <td>8.0</td>\n",
       "      <td>2011-12-08</td>\n",
       "      <td>856796.10</td>\n",
       "      <td>0.0</td>\n",
       "      <td>86.05</td>\n",
       "      <td>3.638</td>\n",
       "      <td>219.007525</td>\n",
       "      <td>NaN</td>\n",
       "      <td>2011</td>\n",
       "      <td>12</td>\n",
       "      <td>8</td>\n",
       "      <td>3</td>\n",
       "    </tr>\n",
       "    <tr>\n",
       "      <th>149</th>\n",
       "      <td>19.0</td>\n",
       "      <td>2012-04-20</td>\n",
       "      <td>1255087.26</td>\n",
       "      <td>0.0</td>\n",
       "      <td>55.20</td>\n",
       "      <td>4.170</td>\n",
       "      <td>137.923067</td>\n",
       "      <td>8.150</td>\n",
       "      <td>2012</td>\n",
       "      <td>4</td>\n",
       "      <td>20</td>\n",
       "      <td>4</td>\n",
       "    </tr>\n",
       "  </tbody>\n",
       "</table>\n",
       "<p>109 rows × 12 columns</p>\n",
       "</div>"
      ],
      "text/plain": [
       "     Store       Date  Weekly_Sales  Holiday_Flag  Temperature  Fuel_Price  \\\n",
       "1     13.0 2011-03-25    1807545.43           0.0        42.38       3.435   \n",
       "4      6.0 2010-05-28    1644470.66           0.0        78.89       2.759   \n",
       "5      4.0 2010-05-28    1857533.70           0.0          NaN       2.756   \n",
       "6     15.0 2011-03-06     695396.19           0.0        69.80       4.069   \n",
       "7     20.0 2012-03-02    2203523.20           0.0        39.93       3.617   \n",
       "..     ...        ...           ...           ...          ...         ...   \n",
       "144    3.0 2012-10-19     424513.08           0.0        73.44       3.594   \n",
       "145   14.0 2010-06-18    2248645.59           0.0        72.62       2.780   \n",
       "147   17.0 2010-11-06     845252.21           0.0        57.14       2.841   \n",
       "148    8.0 2011-12-08     856796.10           0.0        86.05       3.638   \n",
       "149   19.0 2012-04-20    1255087.26           0.0        55.20       4.170   \n",
       "\n",
       "            CPI  Unemployment  year  month  day  weekday  \n",
       "1    128.616064         7.470  2011      3   25        4  \n",
       "4    212.412888         7.092  2010      5   28        4  \n",
       "5    126.160226         7.896  2010      5   28        4  \n",
       "6    134.855161         7.658  2011      3    6        6  \n",
       "7    213.023623         6.961  2012      3    2        4  \n",
       "..          ...           ...   ...    ...  ...      ...  \n",
       "144  226.968844         6.034  2012     10   19        4  \n",
       "145  182.442420         8.899  2010      6   18        4  \n",
       "147  126.111903           NaN  2010     11    6        5  \n",
       "148  219.007525           NaN  2011     12    8        3  \n",
       "149  137.923067         8.150  2012      4   20        4  \n",
       "\n",
       "[109 rows x 12 columns]"
      ]
     },
     "execution_count": 495,
     "metadata": {},
     "output_type": "execute_result"
    }
   ],
   "source": [
    "datawal['year'] = datawal['Date'].dt.year    #create 4 columns for splitting date\n",
    "datawal['month'] = datawal['Date'].dt.month\n",
    "datawal['day'] = datawal['Date'].dt.day\n",
    "datawal['weekday'] = datawal['Date'].dt.weekday\n",
    "datawal"
   ]
  },
  {
   "cell_type": "code",
   "execution_count": 496,
   "metadata": {},
   "outputs": [
    {
     "name": "stdout",
     "output_type": "stream",
     "text": [
      "Percentage of missing values: \n"
     ]
    },
    {
     "data": {
      "text/plain": [
       "Store            0.000000\n",
       "Date             0.000000\n",
       "Weekly_Sales     0.000000\n",
       "Holiday_Flag     0.000000\n",
       "Temperature     10.091743\n",
       "Fuel_Price      10.091743\n",
       "CPI              8.256881\n",
       "Unemployment    10.091743\n",
       "year             0.000000\n",
       "month            0.000000\n",
       "day              0.000000\n",
       "weekday          0.000000\n",
       "dtype: float64"
      ]
     },
     "metadata": {},
     "output_type": "display_data"
    },
    {
     "name": "stdout",
     "output_type": "stream",
     "text": [
      "\n"
     ]
    }
   ],
   "source": [
    "print(\"Percentage of missing values: \")\n",
    "display(100*datawal.isnull().sum()/datawal.shape[0])\n",
    "print()"
   ]
  },
  {
   "cell_type": "code",
   "execution_count": 497,
   "metadata": {},
   "outputs": [
    {
     "name": "stderr",
     "output_type": "stream",
     "text": [
      "/opt/conda/lib/python3.8/site-packages/seaborn/_decorators.py:36: FutureWarning: Pass the following variable as a keyword arg: x. From version 0.12, the only valid positional argument will be `data`, and passing other arguments without an explicit keyword will result in an error or misinterpretation.\n",
      "  warnings.warn(\n"
     ]
    },
    {
     "data": {
      "text/plain": [
       "<AxesSubplot:xlabel='Temperature'>"
      ]
     },
     "execution_count": 497,
     "metadata": {},
     "output_type": "execute_result"
    },
    {
     "data": {
      "image/png": "[encoded data removed]",
      "text/plain": [
       "<Figure size 432x288 with 1 Axes>"
      ]
     },
     "metadata": {
      "needs_background": "light"
     },
     "output_type": "display_data"
    }
   ],
   "source": [
    "sns.boxplot(datawal['Temperature']) # detect outliers for Temperature, Fuel_price, CPI and Unemployment features"
   ]
  },
  {
   "cell_type": "code",
   "execution_count": 498,
   "metadata": {},
   "outputs": [
    {
     "name": "stderr",
     "output_type": "stream",
     "text": [
      "/opt/conda/lib/python3.8/site-packages/seaborn/_decorators.py:36: FutureWarning: Pass the following variable as a keyword arg: x. From version 0.12, the only valid positional argument will be `data`, and passing other arguments without an explicit keyword will result in an error or misinterpretation.\n",
      "  warnings.warn(\n"
     ]
    },
    {
     "data": {
      "text/plain": [
       "<AxesSubplot:xlabel='Fuel_Price'>"
      ]
     },
     "execution_count": 498,
     "metadata": {},
     "output_type": "execute_result"
    },
    {
     "data": {
      "image/png": "[encoded data removed]",
      "text/plain": [
       "<Figure size 432x288 with 1 Axes>"
      ]
     },
     "metadata": {
      "needs_background": "light"
     },
     "output_type": "display_data"
    }
   ],
   "source": [
    "sns.boxplot(datawal['Fuel_Price'])\n"
   ]
  },
  {
   "cell_type": "code",
   "execution_count": 499,
   "metadata": {},
   "outputs": [
    {
     "name": "stderr",
     "output_type": "stream",
     "text": [
      "/opt/conda/lib/python3.8/site-packages/seaborn/_decorators.py:36: FutureWarning: Pass the following variable as a keyword arg: x. From version 0.12, the only valid positional argument will be `data`, and passing other arguments without an explicit keyword will result in an error or misinterpretation.\n",
      "  warnings.warn(\n"
     ]
    },
    {
     "data": {
      "text/plain": [
       "<AxesSubplot:xlabel='CPI'>"
      ]
     },
     "execution_count": 499,
     "metadata": {},
     "output_type": "execute_result"
    },
    {
     "data": {
      "image/png": "[encoded data removed]",
      "text/plain": [
       "<Figure size 432x288 with 1 Axes>"
      ]
     },
     "metadata": {
      "needs_background": "light"
     },
     "output_type": "display_data"
    }
   ],
   "source": [
    "sns.boxplot(datawal['CPI'])\n"
   ]
  },
  {
   "cell_type": "code",
   "execution_count": 500,
   "metadata": {},
   "outputs": [
    {
     "name": "stderr",
     "output_type": "stream",
     "text": [
      "/opt/conda/lib/python3.8/site-packages/seaborn/_decorators.py:36: FutureWarning: Pass the following variable as a keyword arg: x. From version 0.12, the only valid positional argument will be `data`, and passing other arguments without an explicit keyword will result in an error or misinterpretation.\n",
      "  warnings.warn(\n"
     ]
    },
    {
     "data": {
      "text/plain": [
       "<AxesSubplot:xlabel='Unemployment'>"
      ]
     },
     "execution_count": 500,
     "metadata": {},
     "output_type": "execute_result"
    },
    {
     "data": {
      "image/png": "[encoded data removed]",
      "text/plain": [
       "<Figure size 432x288 with 1 Axes>"
      ]
     },
     "metadata": {
      "needs_background": "light"
     },
     "output_type": "display_data"
    }
   ],
   "source": [
    "sns.boxplot(datawal['Unemployment'])"
   ]
  },
  {
   "cell_type": "markdown",
   "metadata": {},
   "source": [
    "#### There are outliers for the feature \"Unemployment\". We will check and remove them herebelow"
   ]
  },
  {
   "cell_type": "code",
   "execution_count": 501,
   "metadata": {},
   "outputs": [
    {
     "data": {
      "text/plain": [
       "7.719989795918366"
      ]
     },
     "execution_count": 501,
     "metadata": {},
     "output_type": "execute_result"
    }
   ],
   "source": [
    "datawal['Unemployment'].mean()"
   ]
  },
  {
   "cell_type": "code",
   "execution_count": 502,
   "metadata": {},
   "outputs": [
    {
     "data": {
      "text/plain": [
       "5.171528481416763"
      ]
     },
     "execution_count": 502,
     "metadata": {},
     "output_type": "execute_result"
    }
   ],
   "source": [
    "datawal[\"Unemployment\"].std()*3"
   ]
  },
  {
   "cell_type": "code",
   "execution_count": 503,
   "metadata": {},
   "outputs": [
    {
     "data": {
      "text/plain": [
       "12.891518277335129"
      ]
     },
     "execution_count": 503,
     "metadata": {},
     "output_type": "execute_result"
    }
   ],
   "source": [
    "upper_bound = datawal[\"Unemployment\"].mean()+datawal[\"Unemployment\"].std()*3\n",
    "upper_bound"
   ]
  },
  {
   "cell_type": "code",
   "execution_count": 504,
   "metadata": {},
   "outputs": [
    {
     "data": {
      "text/plain": [
       "2.548461314501603"
      ]
     },
     "execution_count": 504,
     "metadata": {},
     "output_type": "execute_result"
    }
   ],
   "source": [
    "lower_bound = datawal[\"Unemployment\"].mean()-datawal[\"Unemployment\"].std()*3\n",
    "lower_bound"
   ]
  },
  {
   "cell_type": "code",
   "execution_count": 505,
   "metadata": {},
   "outputs": [
    {
     "data": {
      "text/plain": [
       "1       True\n",
       "4       True\n",
       "5       True\n",
       "6       True\n",
       "7       True\n",
       "       ...  \n",
       "144     True\n",
       "145     True\n",
       "147    False\n",
       "148    False\n",
       "149     True\n",
       "Name: Unemployment, Length: 109, dtype: bool"
      ]
     },
     "execution_count": 505,
     "metadata": {},
     "output_type": "execute_result"
    }
   ],
   "source": [
    "mask = (datawal[\"Unemployment\"] < upper_bound) & (datawal[\"Unemployment\"] > lower_bound)\n",
    "mask"
   ]
  },
  {
   "cell_type": "code",
   "execution_count": 506,
   "metadata": {},
   "outputs": [
    {
     "data": {
      "text/html": [
       "<div>\n",
       "<style scoped>\n",
       "    .dataframe tbody tr th:only-of-type {\n",
       "        vertical-align: middle;\n",
       "    }\n",
       "\n",
       "    .dataframe tbody tr th {\n",
       "        vertical-align: top;\n",
       "    }\n",
       "\n",
       "    .dataframe thead th {\n",
       "        text-align: right;\n",
       "    }\n",
       "</style>\n",
       "<table border=\"1\" class=\"dataframe\">\n",
       "  <thead>\n",
       "    <tr style=\"text-align: right;\">\n",
       "      <th></th>\n",
       "      <th>Store</th>\n",
       "      <th>Date</th>\n",
       "      <th>Weekly_Sales</th>\n",
       "      <th>Holiday_Flag</th>\n",
       "      <th>Temperature</th>\n",
       "      <th>Fuel_Price</th>\n",
       "      <th>CPI</th>\n",
       "      <th>Unemployment</th>\n",
       "      <th>year</th>\n",
       "      <th>month</th>\n",
       "      <th>day</th>\n",
       "      <th>weekday</th>\n",
       "    </tr>\n",
       "  </thead>\n",
       "  <tbody>\n",
       "    <tr>\n",
       "      <th>1</th>\n",
       "      <td>13.0</td>\n",
       "      <td>2011-03-25</td>\n",
       "      <td>1807545.43</td>\n",
       "      <td>0.0</td>\n",
       "      <td>42.38</td>\n",
       "      <td>3.435</td>\n",
       "      <td>128.616064</td>\n",
       "      <td>7.470</td>\n",
       "      <td>2011</td>\n",
       "      <td>3</td>\n",
       "      <td>25</td>\n",
       "      <td>4</td>\n",
       "    </tr>\n",
       "    <tr>\n",
       "      <th>4</th>\n",
       "      <td>6.0</td>\n",
       "      <td>2010-05-28</td>\n",
       "      <td>1644470.66</td>\n",
       "      <td>0.0</td>\n",
       "      <td>78.89</td>\n",
       "      <td>2.759</td>\n",
       "      <td>212.412888</td>\n",
       "      <td>7.092</td>\n",
       "      <td>2010</td>\n",
       "      <td>5</td>\n",
       "      <td>28</td>\n",
       "      <td>4</td>\n",
       "    </tr>\n",
       "    <tr>\n",
       "      <th>5</th>\n",
       "      <td>4.0</td>\n",
       "      <td>2010-05-28</td>\n",
       "      <td>1857533.70</td>\n",
       "      <td>0.0</td>\n",
       "      <td>NaN</td>\n",
       "      <td>2.756</td>\n",
       "      <td>126.160226</td>\n",
       "      <td>7.896</td>\n",
       "      <td>2010</td>\n",
       "      <td>5</td>\n",
       "      <td>28</td>\n",
       "      <td>4</td>\n",
       "    </tr>\n",
       "    <tr>\n",
       "      <th>6</th>\n",
       "      <td>15.0</td>\n",
       "      <td>2011-03-06</td>\n",
       "      <td>695396.19</td>\n",
       "      <td>0.0</td>\n",
       "      <td>69.80</td>\n",
       "      <td>4.069</td>\n",
       "      <td>134.855161</td>\n",
       "      <td>7.658</td>\n",
       "      <td>2011</td>\n",
       "      <td>3</td>\n",
       "      <td>6</td>\n",
       "      <td>6</td>\n",
       "    </tr>\n",
       "    <tr>\n",
       "      <th>7</th>\n",
       "      <td>20.0</td>\n",
       "      <td>2012-03-02</td>\n",
       "      <td>2203523.20</td>\n",
       "      <td>0.0</td>\n",
       "      <td>39.93</td>\n",
       "      <td>3.617</td>\n",
       "      <td>213.023623</td>\n",
       "      <td>6.961</td>\n",
       "      <td>2012</td>\n",
       "      <td>3</td>\n",
       "      <td>2</td>\n",
       "      <td>4</td>\n",
       "    </tr>\n",
       "  </tbody>\n",
       "</table>\n",
       "</div>"
      ],
      "text/plain": [
       "   Store       Date  Weekly_Sales  Holiday_Flag  Temperature  Fuel_Price  \\\n",
       "1   13.0 2011-03-25    1807545.43           0.0        42.38       3.435   \n",
       "4    6.0 2010-05-28    1644470.66           0.0        78.89       2.759   \n",
       "5    4.0 2010-05-28    1857533.70           0.0          NaN       2.756   \n",
       "6   15.0 2011-03-06     695396.19           0.0        69.80       4.069   \n",
       "7   20.0 2012-03-02    2203523.20           0.0        39.93       3.617   \n",
       "\n",
       "          CPI  Unemployment  year  month  day  weekday  \n",
       "1  128.616064         7.470  2011      3   25        4  \n",
       "4  212.412888         7.092  2010      5   28        4  \n",
       "5  126.160226         7.896  2010      5   28        4  \n",
       "6  134.855161         7.658  2011      3    6        6  \n",
       "7  213.023623         6.961  2012      3    2        4  "
      ]
     },
     "execution_count": 506,
     "metadata": {},
     "output_type": "execute_result"
    }
   ],
   "source": [
    "clean_datawal = datawal.loc[mask, :]  #cleaning of outliers\n",
    "clean_datawal.head()"
   ]
  },
  {
   "cell_type": "code",
   "execution_count": 507,
   "metadata": {},
   "outputs": [
    {
     "name": "stderr",
     "output_type": "stream",
     "text": [
      "/opt/conda/lib/python3.8/site-packages/pandas/core/series.py:4517: SettingWithCopyWarning: \n",
      "A value is trying to be set on a copy of a slice from a DataFrame\n",
      "\n",
      "See the caveats in the documentation: https://pandas.pydata.org/pandas-docs/stable/user_guide/indexing.html#returning-a-view-versus-a-copy\n",
      "  return super().fillna(\n"
     ]
    }
   ],
   "source": [
    "# to remplace by \"mean\" the lacking values \n",
    "clean_datawal['Temperature'].fillna(value=clean_datawal['Temperature'].mean(), inplace=True)\n",
    "clean_datawal['Fuel_Price'].fillna(value=clean_datawal['Fuel_Price'].mean(), inplace=True)\n",
    "clean_datawal['CPI'].fillna(value=clean_datawal['CPI'].mean(), inplace=True)\n",
    "clean_datawal['Unemployment'].fillna(value=clean_datawal['Unemployment'].mean(), inplace=True)"
   ]
  },
  {
   "cell_type": "code",
   "execution_count": 508,
   "metadata": {},
   "outputs": [
    {
     "name": "stdout",
     "output_type": "stream",
     "text": [
      "Percentage of missing values: \n"
     ]
    },
    {
     "data": {
      "text/plain": [
       "Store           0.0\n",
       "Date            0.0\n",
       "Weekly_Sales    0.0\n",
       "Holiday_Flag    0.0\n",
       "Temperature     0.0\n",
       "Fuel_Price      0.0\n",
       "CPI             0.0\n",
       "Unemployment    0.0\n",
       "year            0.0\n",
       "month           0.0\n",
       "day             0.0\n",
       "weekday         0.0\n",
       "dtype: float64"
      ]
     },
     "metadata": {},
     "output_type": "display_data"
    },
    {
     "name": "stdout",
     "output_type": "stream",
     "text": [
      "\n"
     ]
    }
   ],
   "source": [
    "print(\"Percentage of missing values: \")  #To control if ok about \"fillna\"\n",
    "display(100*clean_datawal.isnull().sum()/clean_datawal.shape[0])\n",
    "print()"
   ]
  },
  {
   "cell_type": "code",
   "execution_count": 509,
   "metadata": {},
   "outputs": [
    {
     "data": {
      "text/plain": [
       "(93, 12)"
      ]
     },
     "execution_count": 509,
     "metadata": {},
     "output_type": "execute_result"
    }
   ],
   "source": [
    "clean_datawal.shape"
   ]
  },
  {
   "cell_type": "code",
   "execution_count": 510,
   "metadata": {},
   "outputs": [
    {
     "data": {
      "text/plain": [
       "['Store',\n",
       " 'Date',\n",
       " 'Weekly_Sales',\n",
       " 'Holiday_Flag',\n",
       " 'Temperature',\n",
       " 'Fuel_Price',\n",
       " 'CPI',\n",
       " 'Unemployment',\n",
       " 'year',\n",
       " 'month',\n",
       " 'day',\n",
       " 'weekday']"
      ]
     },
     "execution_count": 510,
     "metadata": {},
     "output_type": "execute_result"
    }
   ],
   "source": [
    "cols = list(clean_datawal.columns.values)\n",
    "cols"
   ]
  },
  {
   "cell_type": "code",
   "execution_count": 511,
   "metadata": {},
   "outputs": [
    {
     "data": {
      "text/html": [
       "<div>\n",
       "<style scoped>\n",
       "    .dataframe tbody tr th:only-of-type {\n",
       "        vertical-align: middle;\n",
       "    }\n",
       "\n",
       "    .dataframe tbody tr th {\n",
       "        vertical-align: top;\n",
       "    }\n",
       "\n",
       "    .dataframe thead th {\n",
       "        text-align: right;\n",
       "    }\n",
       "</style>\n",
       "<table border=\"1\" class=\"dataframe\">\n",
       "  <thead>\n",
       "    <tr style=\"text-align: right;\">\n",
       "      <th></th>\n",
       "      <th>Store</th>\n",
       "      <th>Holiday_Flag</th>\n",
       "      <th>Temperature</th>\n",
       "      <th>Fuel_Price</th>\n",
       "      <th>CPI</th>\n",
       "      <th>Unemployment</th>\n",
       "      <th>year</th>\n",
       "      <th>month</th>\n",
       "      <th>day</th>\n",
       "      <th>weekday</th>\n",
       "      <th>Weekly_Sales</th>\n",
       "    </tr>\n",
       "  </thead>\n",
       "  <tbody>\n",
       "    <tr>\n",
       "      <th>1</th>\n",
       "      <td>13.0</td>\n",
       "      <td>0.0</td>\n",
       "      <td>42.380000</td>\n",
       "      <td>3.435</td>\n",
       "      <td>128.616064</td>\n",
       "      <td>7.470</td>\n",
       "      <td>2011</td>\n",
       "      <td>3</td>\n",
       "      <td>25</td>\n",
       "      <td>4</td>\n",
       "      <td>1807545.43</td>\n",
       "    </tr>\n",
       "    <tr>\n",
       "      <th>4</th>\n",
       "      <td>6.0</td>\n",
       "      <td>0.0</td>\n",
       "      <td>78.890000</td>\n",
       "      <td>2.759</td>\n",
       "      <td>212.412888</td>\n",
       "      <td>7.092</td>\n",
       "      <td>2010</td>\n",
       "      <td>5</td>\n",
       "      <td>28</td>\n",
       "      <td>4</td>\n",
       "      <td>1644470.66</td>\n",
       "    </tr>\n",
       "    <tr>\n",
       "      <th>5</th>\n",
       "      <td>4.0</td>\n",
       "      <td>0.0</td>\n",
       "      <td>58.965647</td>\n",
       "      <td>2.756</td>\n",
       "      <td>126.160226</td>\n",
       "      <td>7.896</td>\n",
       "      <td>2010</td>\n",
       "      <td>5</td>\n",
       "      <td>28</td>\n",
       "      <td>4</td>\n",
       "      <td>1857533.70</td>\n",
       "    </tr>\n",
       "    <tr>\n",
       "      <th>6</th>\n",
       "      <td>15.0</td>\n",
       "      <td>0.0</td>\n",
       "      <td>69.800000</td>\n",
       "      <td>4.069</td>\n",
       "      <td>134.855161</td>\n",
       "      <td>7.658</td>\n",
       "      <td>2011</td>\n",
       "      <td>3</td>\n",
       "      <td>6</td>\n",
       "      <td>6</td>\n",
       "      <td>695396.19</td>\n",
       "    </tr>\n",
       "    <tr>\n",
       "      <th>7</th>\n",
       "      <td>20.0</td>\n",
       "      <td>0.0</td>\n",
       "      <td>39.930000</td>\n",
       "      <td>3.617</td>\n",
       "      <td>213.023623</td>\n",
       "      <td>6.961</td>\n",
       "      <td>2012</td>\n",
       "      <td>3</td>\n",
       "      <td>2</td>\n",
       "      <td>4</td>\n",
       "      <td>2203523.20</td>\n",
       "    </tr>\n",
       "    <tr>\n",
       "      <th>...</th>\n",
       "      <td>...</td>\n",
       "      <td>...</td>\n",
       "      <td>...</td>\n",
       "      <td>...</td>\n",
       "      <td>...</td>\n",
       "      <td>...</td>\n",
       "      <td>...</td>\n",
       "      <td>...</td>\n",
       "      <td>...</td>\n",
       "      <td>...</td>\n",
       "      <td>...</td>\n",
       "    </tr>\n",
       "    <tr>\n",
       "      <th>142</th>\n",
       "      <td>3.0</td>\n",
       "      <td>0.0</td>\n",
       "      <td>75.540000</td>\n",
       "      <td>3.285</td>\n",
       "      <td>178.360183</td>\n",
       "      <td>7.197</td>\n",
       "      <td>2011</td>\n",
       "      <td>7</td>\n",
       "      <td>10</td>\n",
       "      <td>6</td>\n",
       "      <td>403342.40</td>\n",
       "    </tr>\n",
       "    <tr>\n",
       "      <th>143</th>\n",
       "      <td>3.0</td>\n",
       "      <td>0.0</td>\n",
       "      <td>78.530000</td>\n",
       "      <td>2.705</td>\n",
       "      <td>214.495838</td>\n",
       "      <td>7.343</td>\n",
       "      <td>2010</td>\n",
       "      <td>4</td>\n",
       "      <td>6</td>\n",
       "      <td>1</td>\n",
       "      <td>396968.80</td>\n",
       "    </tr>\n",
       "    <tr>\n",
       "      <th>144</th>\n",
       "      <td>3.0</td>\n",
       "      <td>0.0</td>\n",
       "      <td>73.440000</td>\n",
       "      <td>3.594</td>\n",
       "      <td>226.968844</td>\n",
       "      <td>6.034</td>\n",
       "      <td>2012</td>\n",
       "      <td>10</td>\n",
       "      <td>19</td>\n",
       "      <td>4</td>\n",
       "      <td>424513.08</td>\n",
       "    </tr>\n",
       "    <tr>\n",
       "      <th>145</th>\n",
       "      <td>14.0</td>\n",
       "      <td>0.0</td>\n",
       "      <td>72.620000</td>\n",
       "      <td>2.780</td>\n",
       "      <td>182.442420</td>\n",
       "      <td>8.899</td>\n",
       "      <td>2010</td>\n",
       "      <td>6</td>\n",
       "      <td>18</td>\n",
       "      <td>4</td>\n",
       "      <td>2248645.59</td>\n",
       "    </tr>\n",
       "    <tr>\n",
       "      <th>149</th>\n",
       "      <td>19.0</td>\n",
       "      <td>0.0</td>\n",
       "      <td>55.200000</td>\n",
       "      <td>4.170</td>\n",
       "      <td>137.923067</td>\n",
       "      <td>8.150</td>\n",
       "      <td>2012</td>\n",
       "      <td>4</td>\n",
       "      <td>20</td>\n",
       "      <td>4</td>\n",
       "      <td>1255087.26</td>\n",
       "    </tr>\n",
       "  </tbody>\n",
       "</table>\n",
       "<p>93 rows × 11 columns</p>\n",
       "</div>"
      ],
      "text/plain": [
       "     Store  Holiday_Flag  Temperature  Fuel_Price         CPI  Unemployment  \\\n",
       "1     13.0           0.0    42.380000       3.435  128.616064         7.470   \n",
       "4      6.0           0.0    78.890000       2.759  212.412888         7.092   \n",
       "5      4.0           0.0    58.965647       2.756  126.160226         7.896   \n",
       "6     15.0           0.0    69.800000       4.069  134.855161         7.658   \n",
       "7     20.0           0.0    39.930000       3.617  213.023623         6.961   \n",
       "..     ...           ...          ...         ...         ...           ...   \n",
       "142    3.0           0.0    75.540000       3.285  178.360183         7.197   \n",
       "143    3.0           0.0    78.530000       2.705  214.495838         7.343   \n",
       "144    3.0           0.0    73.440000       3.594  226.968844         6.034   \n",
       "145   14.0           0.0    72.620000       2.780  182.442420         8.899   \n",
       "149   19.0           0.0    55.200000       4.170  137.923067         8.150   \n",
       "\n",
       "     year  month  day  weekday  Weekly_Sales  \n",
       "1    2011      3   25        4    1807545.43  \n",
       "4    2010      5   28        4    1644470.66  \n",
       "5    2010      5   28        4    1857533.70  \n",
       "6    2011      3    6        6     695396.19  \n",
       "7    2012      3    2        4    2203523.20  \n",
       "..    ...    ...  ...      ...           ...  \n",
       "142  2011      7   10        6     403342.40  \n",
       "143  2010      4    6        1     396968.80  \n",
       "144  2012     10   19        4     424513.08  \n",
       "145  2010      6   18        4    2248645.59  \n",
       "149  2012      4   20        4    1255087.26  \n",
       "\n",
       "[93 rows x 11 columns]"
      ]
     },
     "execution_count": 511,
     "metadata": {},
     "output_type": "execute_result"
    }
   ],
   "source": [
    "clean_datawal=clean_datawal[['Store',  #Reorganisation of columns before preprocessing and drop date,\n",
    " 'Holiday_Flag',\n",
    " 'Temperature',\n",
    " 'Fuel_Price',\n",
    " 'CPI',\n",
    " 'Unemployment','year',\n",
    " 'month',\n",
    " 'day',\n",
    " 'weekday','Weekly_Sales']]\n",
    "clean_datawal"
   ]
  },
  {
   "cell_type": "code",
   "execution_count": 512,
   "metadata": {},
   "outputs": [],
   "source": [
    "#reinitialisate index\n",
    "clean_datawal = clean_datawal.reset_index(drop=True)"
   ]
  },
  {
   "cell_type": "markdown",
   "metadata": {},
   "source": [
    "#### It remains 93 rows / 150\n",
    "#### now let's move on some visualizations to check possible coorelations"
   ]
  },
  {
   "cell_type": "code",
   "execution_count": 513,
   "metadata": {},
   "outputs": [
    {
     "data": {
      "text/plain": [
       "<AxesSubplot:>"
      ]
     },
     "execution_count": 513,
     "metadata": {},
     "output_type": "execute_result"
    },
    {
     "data": {
      "image/png": "[encoded data removed]",
      "text/plain": [
       "<Figure size 864x432 with 2 Axes>"
      ]
     },
     "metadata": {
      "needs_background": "light"
     },
     "output_type": "display_data"
    }
   ],
   "source": [
    "corr = clean_datawal.corr()\n",
    "f, ax = plt.subplots(figsize=(12, 6))\n",
    "sns.heatmap(corr, annot=True, ax=ax)"
   ]
  },
  {
   "cell_type": "markdown",
   "metadata": {},
   "source": [
    "#### Negative coorelation for \"CPI/Store\" and \"CPI/Weekly sales\"\n",
    "#### CPI/Store is not relevant because Store feature is an ID, we will check the couple \"Unemployment/Weekly Sales\"\n",
    "#### Strong positive coorelation between \"Fuel_Price/Year\"(0,82)"
   ]
  },
  {
   "cell_type": "code",
   "execution_count": 514,
   "metadata": {},
   "outputs": [
    {
     "data": {
      "text/plain": [
       "<seaborn.axisgrid.FacetGrid at 0x7f70c1aa5fa0>"
      ]
     },
     "execution_count": 514,
     "metadata": {},
     "output_type": "execute_result"
    },
    {
     "data": {
      "image/png": "[encoded data removed]",
      "text/plain": [
       "<Figure size 648x216 with 1 Axes>"
      ]
     },
     "metadata": {
      "needs_background": "light"
     },
     "output_type": "display_data"
    }
   ],
   "source": [
    "sns.lmplot(x=\"Weekly_Sales\", y=\"CPI\", data=clean_datawal, height=3,aspect=3)"
   ]
  },
  {
   "cell_type": "markdown",
   "metadata": {},
   "source": [
    "#### When CPI decreases, the sales increases"
   ]
  },
  {
   "cell_type": "code",
   "execution_count": 515,
   "metadata": {},
   "outputs": [
    {
     "data": {
      "text/plain": [
       "<seaborn.axisgrid.FacetGrid at 0x7f70c1947730>"
      ]
     },
     "execution_count": 515,
     "metadata": {},
     "output_type": "execute_result"
    },
    {
     "data": {
      "image/png": "[encoded data removed]",
      "text/plain": [
       "<Figure size 648x216 with 1 Axes>"
      ]
     },
     "metadata": {
      "needs_background": "light"
     },
     "output_type": "display_data"
    }
   ],
   "source": [
    "sns.lmplot(x=\"Weekly_Sales\", y=\"Unemployment\", data=clean_datawal, height=3,aspect=3)"
   ]
  },
  {
   "cell_type": "markdown",
   "metadata": {},
   "source": [
    "#### Sales Increases when Unemployment increases too but slightly"
   ]
  },
  {
   "cell_type": "code",
   "execution_count": 516,
   "metadata": {},
   "outputs": [
    {
     "data": {
      "text/plain": [
       "<seaborn.axisgrid.FacetGrid at 0x7f70c191e520>"
      ]
     },
     "execution_count": 516,
     "metadata": {},
     "output_type": "execute_result"
    },
    {
     "data": {
      "image/png": "[encoded data removed]",
      "text/plain": [
       "<Figure size 601.5x360 with 1 Axes>"
      ]
     },
     "metadata": {
      "needs_background": "light"
     },
     "output_type": "display_data"
    }
   ],
   "source": [
    "sns.lmplot(x=\"Weekly_Sales\", y=\"Fuel_Price\", data=clean_datawal,hue=\"year\", height=5,aspect=1.5)"
   ]
  },
  {
   "cell_type": "markdown",
   "metadata": {},
   "source": [
    "#### Per year, fuel price has not impact on sales"
   ]
  },
  {
   "cell_type": "markdown",
   "metadata": {},
   "source": [
    "### Preprocessing"
   ]
  },
  {
   "cell_type": "code",
   "execution_count": 517,
   "metadata": {},
   "outputs": [],
   "source": [
    "# separate X from Y features\n",
    "target = \"Weekly_Sales\"\n",
    "features = ['Store',  \n",
    " 'Holiday_Flag',\n",
    " 'Temperature',\n",
    " 'Fuel_Price',\n",
    " 'CPI',\n",
    " 'Unemployment','year',\n",
    " 'month',\n",
    " 'day',\n",
    " 'weekday']\n",
    "\n",
    "X = clean_datawal.loc[:,features]\n",
    "Y = clean_datawal.loc[:,target]\n",
    "#clean_datawal['Store'].unique()"
   ]
  },
  {
   "cell_type": "code",
   "execution_count": 518,
   "metadata": {},
   "outputs": [],
   "source": [
    "X = X.values\n",
    "Y = Y.tolist()"
   ]
  },
  {
   "cell_type": "code",
   "execution_count": 519,
   "metadata": {},
   "outputs": [
    {
     "data": {
      "text/plain": [
       "array([[  14.        ,    0.        ,   58.96564706,    4.046     ,\n",
       "         185.9374378 ,    8.521     , 2011.        ,    6.        ,\n",
       "           5.        ,    6.        ],\n",
       "       [  16.        ,    0.        ,   48.29      ,    3.75      ,\n",
       "         197.4133259 ,    6.162     , 2012.        ,    3.        ,\n",
       "          30.        ,    4.        ],\n",
       "       [   5.        ,    0.        ,   77.38      ,    3.899     ,\n",
       "         216.5343611 ,    6.489     , 2011.        ,    5.        ,\n",
       "          13.        ,    4.        ],\n",
       "       [   9.        ,    0.        ,   49.96      ,    2.771     ,\n",
       "         215.4372854 ,    6.56      , 2010.        ,   11.        ,\n",
       "          19.        ,    4.        ],\n",
       "       [   3.        ,    0.        ,   82.7       ,    3.346     ,\n",
       "         225.3068615 ,    6.664     , 2012.        ,    6.        ,\n",
       "          22.        ,    4.        ]])"
      ]
     },
     "execution_count": 519,
     "metadata": {},
     "output_type": "execute_result"
    }
   ],
   "source": [
    "X_train, X_test, Y_train, Y_test = train_test_split(X,Y, test_size=0.2, random_state=5)  #Split between train set and test set # error about not found in dataset value 9 for Store feature, changed random to 5\n",
    "X_train[0:5,:]"
   ]
  },
  {
   "cell_type": "code",
   "execution_count": 520,
   "metadata": {},
   "outputs": [],
   "source": [
    "numeric_features = [2,3,4,5] #Create pipeline for numeric features\n",
    "\n",
    "numeric_transformer = Pipeline(steps=[\n",
    "    ('scaler', StandardScaler(with_mean=False))])  # resolution error found about message \"Cannot center sparse matrices: pass `with_mean=False` in"
   ]
  },
  {
   "cell_type": "code",
   "execution_count": 521,
   "metadata": {},
   "outputs": [],
   "source": [
    "categorical_features = [0,1] #Create pipeline for categorical features\n",
    "\n",
    "categorical_transformer = Pipeline(\n",
    "    steps=[\n",
    "    ('encoder', OneHotEncoder(drop='first'))])"
   ]
  },
  {
   "cell_type": "code",
   "execution_count": 522,
   "metadata": {},
   "outputs": [],
   "source": [
    "preprocessor = ColumnTransformer(\n",
    "    \n",
    "    transformers=[\n",
    "        ('num', numeric_transformer, numeric_features),\n",
    "        ('cat', categorical_transformer, categorical_features)\n",
    "    ])"
   ]
  },
  {
   "cell_type": "code",
   "execution_count": 523,
   "metadata": {},
   "outputs": [
    {
     "name": "stdout",
     "output_type": "stream",
     "text": [
      "Performing preprocessings on train set...\n",
      "[[  14.            0.           58.96564706    4.046       185.9374378\n",
      "     8.521      2011.            6.            5.            6.        ]\n",
      " [  16.            0.           48.29          3.75        197.4133259\n",
      "     6.162      2012.            3.           30.            4.        ]\n",
      " [   5.            0.           77.38          3.899       216.5343611\n",
      "     6.489      2011.            5.           13.            4.        ]\n",
      " [   9.            0.           49.96          2.771       215.4372854\n",
      "     6.56       2010.           11.           19.            4.        ]\n",
      " [   3.            0.           82.7           3.346       225.3068615\n",
      "     6.664      2012.            6.           22.            4.        ]]\n",
      "...Done.\n",
      "  (0, 0)\t3.7394225492559983\n",
      "  (0, 1)\t8.711720187872\n",
      "  (0, 2)\t4.828733718006622\n",
      "  (0, 3)\t8.792680782992893\n",
      "  (0, 15)\t1.0\n",
      "  (1, 0)\t3.0624053819579156\n",
      "  (1, 1)\t8.074382279911022\n",
      "  (1, 2)\t5.126758733668858\n",
      "  (1, 3)\t6.358467196902031\n",
      "  (1, 17)\t1.0\n",
      "  (2, 0)\t4.90720497941403\n",
      "  (2, 1)\t8.395204402499486\n",
      "  (2, 2)\t5.623325689123761\n",
      "  (2, 3)\t6.69589315817872\n",
      "  (2, 7)\t1.0\n",
      "  (3, 0)\t3.1683117184223955\n",
      "  (3, 1)\t5.966430212702252\n",
      "  (3, 2)\t5.594834996305385\n",
      "  (3, 3)\t6.76915689900638\n",
      "  (3, 11)\t1.0\n",
      "  (4, 0)\t5.244583248869738\n",
      "  (4, 1)\t7.204502162288609\n",
      "  (4, 2)\t5.851144620985512\n",
      "  (4, 3)\t6.876472801063799\n",
      "  (4, 5)\t1.0\n",
      "\n"
     ]
    }
   ],
   "source": [
    "# Preprocessing on train set\n",
    "print(\"Performing preprocessings on train set...\")\n",
    "print(X_train[0:5,:])\n",
    "X_train = preprocessor.fit_transform(X_train)\n",
    "print('...Done.')\n",
    "print(X_train[0:5,:])\n",
    "print()"
   ]
  },
  {
   "cell_type": "code",
   "execution_count": 524,
   "metadata": {},
   "outputs": [
    {
     "name": "stdout",
     "output_type": "stream",
     "text": [
      "Performing preprocessings on test set...\n",
      "[[8.00000000e+00 0.00000000e+00 7.49200000e+01 2.61900000e+00\n",
      "  2.14936279e+02 6.31500000e+00 2.01000000e+03 8.00000000e+00\n",
      "  2.70000000e+01 4.00000000e+00]\n",
      " [2.00000000e+00 0.00000000e+00 5.96900000e+01 2.72800000e+00\n",
      "  2.11660898e+02 8.16300000e+00 2.01000000e+03 1.20000000e+01\n",
      "  1.10000000e+01 5.00000000e+00]\n",
      " [1.50000000e+01 0.00000000e+00 4.74200000e+01 4.02100000e+00\n",
      "  1.37584387e+02 7.94300000e+00 2.01200000e+03 3.00000000e+00\n",
      "  1.60000000e+01 4.00000000e+00]\n",
      " [7.00000000e+00 0.00000000e+00 3.93000000e+01 3.93600000e+00\n",
      "  1.97722738e+02 8.09000000e+00 2.01200000e+03 4.00000000e+00\n",
      "  2.00000000e+01 4.00000000e+00]\n",
      " [2.00000000e+01 0.00000000e+00 6.93700000e+01 3.32240964e+00\n",
      "  1.78360183e+02 7.52700000e+00 2.01000000e+03 9.00000000e+00\n",
      "  2.40000000e+01 4.00000000e+00]]\n",
      "...Done.\n",
      "  (0, 0)\t4.7511992382747374\n",
      "  (0, 1)\t5.639148584289858\n",
      "  (0, 2)\t5.581824033711616\n",
      "  (0, 3)\t6.516345398967271\n",
      "  (0, 10)\t1.0\n",
      "  (1, 0)\t3.7853588165058603\n",
      "  (1, 1)\t5.873843962559272\n",
      "  (1, 2)\t5.496763452453003\n",
      "  (1, 3)\t8.423266427833703\n",
      "  (1, 4)\t1.0\n",
      "  (2, 0)\t3.0072326198476778\n",
      "  (2, 1)\t8.657890972672593\n",
      "  (2, 2)\t3.573020995242763\n",
      "  (2, 3)\t8.196252019635317\n",
      "  (2, 16)\t1.0\n",
      "  (3, 0)\t2.4922868401521243\n",
      "  (3, 1)\t8.47487164099461\n",
      "  (3, 2)\t5.134794076481332\n",
      "  (3, 3)\t8.347938919658784\n",
      "  (3, 9)\t1.0\n",
      "  (4, 0)\t4.399235066192185\n",
      "  (4, 1)\t7.153708136572733\n",
      "  (4, 2)\t4.631954907163959\n",
      "  (4, 3)\t7.766988411405644\n",
      "  (4, 21)\t1.0\n",
      "\n"
     ]
    }
   ],
   "source": [
    "# Preprocessings on test set\n",
    "print(\"Performing preprocessings on test set...\")\n",
    "print(X_test[0:5,:])\n",
    "X_test = preprocessor.transform(X_test)\n",
    "print('...Done.')\n",
    "print(X_test[0:5,:])\n",
    "print()"
   ]
  },
  {
   "cell_type": "markdown",
   "metadata": {},
   "source": [
    "### Part 2 : Baseline model (linear regression)"
   ]
  },
  {
   "cell_type": "code",
   "execution_count": 525,
   "metadata": {},
   "outputs": [
    {
     "name": "stdout",
     "output_type": "stream",
     "text": [
      "...Done.\n"
     ]
    }
   ],
   "source": [
    "# Train model\n",
    "\n",
    "regressor = LinearRegression()\n",
    "regressor.fit(X_train, Y_train) # Training is always done on train set !!\n",
    "print(\"...Done.\")"
   ]
  },
  {
   "cell_type": "code",
   "execution_count": 526,
   "metadata": {},
   "outputs": [
    {
     "data": {
      "text/plain": [
       "0.97326775810938"
      ]
     },
     "execution_count": 526,
     "metadata": {},
     "output_type": "execute_result"
    }
   ],
   "source": [
    "regressor.score(X_train, Y_train)"
   ]
  },
  {
   "cell_type": "code",
   "execution_count": 527,
   "metadata": {},
   "outputs": [
    {
     "data": {
      "text/plain": [
       "array([ 937274.75390383, 2026204.87559482,  669910.75651703,\n",
       "        519529.40909132, 2049789.81475542,  862496.27988407,\n",
       "       1690055.83540828,  913533.02876377, 1454903.83954456,\n",
       "        309799.43420428, 1880971.59237202, 2066010.38120547,\n",
       "        906113.32015153,  555996.91384044, 2128827.04051716,\n",
       "       1434051.75306336,  546417.32190433, 2094893.8375632 ,\n",
       "        470677.85171229])"
      ]
     },
     "execution_count": 527,
     "metadata": {},
     "output_type": "execute_result"
    }
   ],
   "source": [
    "regressor.predict(X_test)"
   ]
  },
  {
   "cell_type": "code",
   "execution_count": 528,
   "metadata": {},
   "outputs": [
    {
     "name": "stdout",
     "output_type": "stream",
     "text": [
      "...Done.\n",
      "[2049832.63303677  509918.51115982  226103.76423332  519823.29999067\n",
      "  395261.60236768]\n",
      "\n"
     ]
    }
   ],
   "source": [
    "# Predictions on training set\n",
    "\n",
    "Y_train_pred = regressor.predict(X_train)\n",
    "print(\"...Done.\")\n",
    "print(Y_train_pred[0:5])\n",
    "print()"
   ]
  },
  {
   "cell_type": "code",
   "execution_count": 529,
   "metadata": {},
   "outputs": [
    {
     "name": "stdout",
     "output_type": "stream",
     "text": [
      "...Done.\n",
      "[ 937274.75390383 2026204.87559482  669910.75651703  519529.40909132\n",
      " 2049789.81475542]\n",
      "\n"
     ]
    }
   ],
   "source": [
    "# Predictions on test set\n",
    "\n",
    "Y_test_pred = regressor.predict(X_test)\n",
    "print(\"...Done.\")\n",
    "print(Y_test_pred[0:5])\n",
    "print()"
   ]
  },
  {
   "cell_type": "code",
   "execution_count": 530,
   "metadata": {},
   "outputs": [
    {
     "name": "stdout",
     "output_type": "stream",
     "text": [
      "R2 score on training set :  0.97326775810938\n",
      "R2 score on test set :  0.8617390762763474\n"
     ]
    }
   ],
   "source": [
    "# Print scores\n",
    "# Print R^2 scores\n",
    "print(\"R2 score on training set : \", r2_score(Y_train, Y_train_pred))\n",
    "print(\"R2 score on test set : \", r2_score(Y_test, Y_test_pred))"
   ]
  },
  {
   "cell_type": "code",
   "execution_count": 532,
   "metadata": {},
   "outputs": [
    {
     "data": {
      "text/plain": [
       "array([   -9344.27590124,   -43181.01341089,  -108240.10735087,\n",
       "        -120843.91060955,   446933.10771336, -1261477.93528782,\n",
       "         199095.84050376, -1428853.69551612,  -113870.7309368 ,\n",
       "       -1007792.64380996,  -864339.14678162, -1250490.14771561,\n",
       "         127556.55025208,   154230.75168937,    11950.98706608,\n",
       "         565007.86048663, -1032073.46488699, -1270655.02265595,\n",
       "       -1137709.78508213,  -594621.23171178,  -329533.31608428,\n",
       "         358605.93625017,   -34693.61381368])"
      ]
     },
     "execution_count": 532,
     "metadata": {},
     "output_type": "execute_result"
    }
   ],
   "source": [
    "regressor.coef_  #to analyze the values of the model's coefficients to know what features are important for the prediction"
   ]
  },
  {
   "cell_type": "markdown",
   "metadata": {},
   "source": [
    "### Part 3 : Fight overfitting"
   ]
  },
  {
   "cell_type": "code",
   "execution_count": 534,
   "metadata": {},
   "outputs": [],
   "source": [
    "from sklearn.linear_model import Ridge\n",
    "from sklearn.model_selection import cross_val_score, GridSearchCV\n",
    "from sklearn.metrics import r2_score"
   ]
  },
  {
   "cell_type": "code",
   "execution_count": 548,
   "metadata": {},
   "outputs": [
    {
     "name": "stdout",
     "output_type": "stream",
     "text": [
      "6-fold cross-validation...\n",
      "The cross-validated R2-score is :  0.7087597141913666\n",
      "The standard deviation is :  0.18484996722994076\n"
     ]
    }
   ],
   "source": [
    "# Perform 6-fold cross-validation to evaluate the generalized R2 score obtained with a Ridge model\n",
    "print(\"6-fold cross-validation...\")\n",
    "regressor = Ridge()\n",
    "scores = cross_val_score(regressor, X_train, Y_train, cv=6)\n",
    "print('The cross-validated R2-score is : ', scores.mean())\n",
    "print('The standard deviation is : ', scores.std())"
   ]
  },
  {
   "cell_type": "code",
   "execution_count": 556,
   "metadata": {},
   "outputs": [
    {
     "name": "stdout",
     "output_type": "stream",
     "text": [
      "Grid search...\n",
      "...Done.\n",
      "Best hyperparameters :  {'alpha': 0.1}\n",
      "Best R2 score :  0.8033964306296092\n"
     ]
    }
   ],
   "source": [
    "# Perform grid search\n",
    "print(\"Grid search...\")\n",
    "regressor = Ridge()\n",
    "# Grid of values to be tested\n",
    "params = {\n",
    "    'alpha': [0.0, 0.1, 0.5, 1.0] # 0 corresponds to no regularization\n",
    "}\n",
    "gridsearch = GridSearchCV(regressor, param_grid = params, cv = 6) # cv : the number of folds to be used for CV\n",
    "gridsearch.fit(X_train, Y_train)\n",
    "print(\"...Done.\")\n",
    "print(\"Best hyperparameters : \", gridsearch.best_params_)\n",
    "print(\"Best R2 score : \", gridsearch.best_score_)"
   ]
  },
  {
   "cell_type": "code",
   "execution_count": 557,
   "metadata": {},
   "outputs": [
    {
     "name": "stdout",
     "output_type": "stream",
     "text": [
      "Predictions on training set...\n",
      "...Done.\n",
      "[2040944.02858713  537035.20655881  266798.57641426  620038.17792145\n",
      "  415312.57367272 2054999.23614775  552046.49301588 1065879.15290972\n",
      " 1378284.70474254 1015877.46694327 2189203.20445833 2097257.62045295\n",
      "  419143.35221087  453869.77736234 1539903.2953631   338781.66012266\n",
      "  359777.35581096 1059587.68265275 1897107.04778216 1063123.2074825\n",
      "  395614.97604635 2092123.26080347 2081957.23447889  760075.38758137\n",
      " 2085308.39005521  418272.6069306   378492.86591504 1347469.5882169\n",
      "  900769.24234575 1976399.52799294 2008899.33918562 1890115.08344814\n",
      "  522667.9859456  1487541.70467443 1901481.21652599  978447.91141337\n",
      " 2097439.58921017 1522014.25092244 1441495.76763987 1950372.50936392\n",
      " 1995470.26173159 1960511.16127617 2303905.79827789 1985826.13381213\n",
      " 1433292.8498456  1884237.04145028 2038016.56164101  843488.386603\n",
      "  453615.51177438 1570199.09259215  302744.01792885 1605168.92519202\n",
      "  907370.65068304  454878.44928205 1511220.32869501 1053507.4836059\n",
      " 2164323.23952212  934374.00108975  575471.42158226 1879689.41729393\n",
      "  543575.25733162 1455387.13782651 1439505.51951918  270265.55329499\n",
      "  519989.25611769  393100.6744276   542754.68113839 2170360.18763806\n",
      " 1863797.11345202 1460824.25668014 1726704.41838507 1354631.49376965\n",
      " 1739350.77330366 1437632.63392806]\n",
      "\n"
     ]
    }
   ],
   "source": [
    "# Predictions on training set\n",
    "# The model has already be re-trained on all the training set at the end of the grid search, so we can directly use it !\n",
    "print(\"Predictions on training set...\")\n",
    "Y_train_pred = gridsearch.predict(X_train)\n",
    "print(\"...Done.\")\n",
    "print(Y_train_pred)\n",
    "print()"
   ]
  },
  {
   "cell_type": "code",
   "execution_count": 558,
   "metadata": {},
   "outputs": [
    {
     "name": "stdout",
     "output_type": "stream",
     "text": [
      "Predictions on test set...\n",
      "...Done.\n",
      "[ 931869.11485881 2050306.06462981  758541.21981489  542925.71015016\n",
      " 1953889.00881505  934830.28336295 1840029.36380015 1046442.9303256\n",
      " 1436851.14254252  340664.18054441 1910849.75407874 2075884.43313023\n",
      "  954288.983885    615563.01188484 2130412.98666108 1426715.65737834\n",
      "  569935.85963889 2100568.6862695   404274.95488236]\n",
      "\n"
     ]
    }
   ],
   "source": [
    "# Predictions on test set\n",
    "print(\"Predictions on test set...\")\n",
    "Y_test_pred = gridsearch.predict(X_test)\n",
    "print(\"...Done.\")\n",
    "print(Y_test_pred)\n",
    "print()"
   ]
  },
  {
   "cell_type": "code",
   "execution_count": 559,
   "metadata": {},
   "outputs": [
    {
     "name": "stdout",
     "output_type": "stream",
     "text": [
      "R2 score on training set :  0.9698297920100015\n",
      "R2 score on test set :  0.8904609608555906\n"
     ]
    }
   ],
   "source": [
    "# Print R^2 scores on train/test sets for the Ridge model with optimal value of the regularization strength\n",
    "print(\"R2 score on training set : \", r2_score(Y_train, Y_train_pred))\n",
    "print(\"R2 score on test set : \", r2_score(Y_test, Y_test_pred))"
   ]
  },
  {
   "cell_type": "code",
   "execution_count": null,
   "metadata": {},
   "outputs": [],
   "source": []
  }
 ],
 "metadata": {
  "kernelspec": {
   "display_name": "Python 3",
   "language": "python",
   "name": "python3"
  },
  "language_info": {
   "codemirror_mode": {
    "name": "ipython",
    "version": 3
   },
   "file_extension": ".py",
   "mimetype": "text/x-python",
   "name": "python",
   "nbconvert_exporter": "python",
   "pygments_lexer": "ipython3",
   "version": "3.8.6"
  }
 },
 "nbformat": 4,
 "nbformat_minor": 4
}
